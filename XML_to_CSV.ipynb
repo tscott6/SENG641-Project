{
 "cells": [
  {
   "cell_type": "code",
   "execution_count": 1,
   "metadata": {},
   "outputs": [],
   "source": [
    "import re\n",
    "import os\n",
    "import pandas as pd"
   ]
  },
  {
   "cell_type": "code",
   "execution_count": 2,
   "metadata": {},
   "outputs": [],
   "source": [
    "# Convert XML files to TXT\n",
    "\n",
    "input_directory = 'txt/'\n",
    "\n",
    "for file in os.listdir(input_directory):\n",
    "    base = os.path.splitext(file)[0]\n",
    "    os.rename(input_directory + file, input_directory + base + '.txt')"
   ]
  },
  {
   "cell_type": "code",
   "execution_count": 3,
   "metadata": {},
   "outputs": [],
   "source": [
    "cols1 = ['cf1_subdirectory', 'cf1_filename', 'cf1_startline', 'cf1_endline']\n",
    "rows1 = []\n",
    "cols2 = ['cf2_subdirectory', 'cf2_filename', 'cf2_startline', 'cf2_endline']\n",
    "rows2 = []"
   ]
  },
  {
   "cell_type": "code",
   "execution_count": 4,
   "metadata": {},
   "outputs": [
    {
     "name": "stdout",
     "output_type": "stream",
     "text": [
      "['02_functions-blind-clones-0.30.txt', '03_functions-blind-clones-0.30.txt', '04_functions-blind-clones-0.30.txt', '05_functions-blind-clones-0.30.txt', '06_functions-blind-clones-0.30.txt', '07_functions-blind-clones-0.30.txt', '08_functions-blind-clones-0.30.txt', '09_functions-blind-clones-0.30.txt', '10_functions-blind-clones-0.30.txt', '11_functions-blind-clones-0.30.txt', '12_functions-blind-clones-0.30.txt', '13_functions-blind-clones-0.30.txt', '14_functions-blind-clones-0.30.txt', '15_functions-blind-clones-0.30.txt', '17_functions-blind-clones-0.30.txt', '18_functions-blind-clones-0.30.txt', '19_functions-blind-clones-0.30.txt', '20_functions-blind-clones-0.30.txt', '21_functions-blind-clones-0.30.txt', '22_functions-blind-clones-0.30.txt', '23_functions-blind-clones-0.30.txt', '24_functions-blind-clones-0.30.txt', '25_functions-blind-clones-0.30.txt', '26_functions-blind-clones-0.30.txt', '27_functions-blind-clones-0.30.txt', '28_functions-blind-clones-0.30.txt', '29_functions-blind-clones-0.30.txt', '30_functions-blind-clones-0.30.txt', '31_functions-blind-clones-0.30.txt', '32_functions-blind-clones-0.30.txt', '33_functions-blind-clones-0.30.txt', '34_functions-blind-clones-0.30.txt', '35_functions-blind-clones-0.30.txt', '36_functions-blind-clones-0.30.txt', '37_functions-blind-clones-0.30.txt', '38_functions-blind-clones-0.30.txt', '39_functions-blind-clones-0.30.txt', '40_functions-blind-clones-0.30.txt', '41_functions-blind-clones-0.30.txt', '42_functions-blind-clones-0.30.txt', '43_functions-blind-clones-0.30.txt', '44_functions-blind-clones-0.30.txt', '45_functions-blind-clones-0.30.txt']\n"
     ]
    }
   ],
   "source": [
    "print(os.listdir('txt/'))"
   ]
  },
  {
   "cell_type": "code",
   "execution_count": 5,
   "metadata": {},
   "outputs": [],
   "source": [
    "def clone_pair(directory, r1, r2):\n",
    "    \n",
    "    pair_number = 1\n",
    "    file_number = 2\n",
    "    \n",
    "    for file in os.listdir(directory):\n",
    "        f = open(directory + file, 'r')\n",
    "        \n",
    "        if file_number == 16:\n",
    "            file_number = 17\n",
    "        \n",
    "        for line in f:\n",
    "            if \"<source\" in line and pair_number == 1:\n",
    "                file1 = re.search(\"file=\\\"(.*?)\\\"\", line).group(1)\n",
    "                subdirectory1 = re.search(\"systems/\" + str(file_number) + \"/(.*?)/\", file1).group(1)\n",
    "                startline1 = re.search(\"startline=\\\"(.*?)\\\"\", line).group(1)\n",
    "                endline1 = re.search(\"endline=\\\"(.*?)\\\"\", line).group(1)\n",
    "        \n",
    "                filename1 = \"test\"\n",
    "        \n",
    "                if subdirectory1 == \"default\":\n",
    "                    filename1 = re.search(\"default/(.*)\", file1).group(1)\n",
    "                elif subdirectory1 == \"selected\":\n",
    "                    filename1 = re.search(\"selected/(.*)\", file1).group(1)\n",
    "                elif subdirectory1 == \"sample\":\n",
    "                    filename1 = re.search(\"sample/(.*)\", file1).group(1)\n",
    "        \n",
    "                r1.append({'cf1_subdirectory': subdirectory1, 'cf1_filename': filename1, \n",
    "                              'cf1_startline': startline1, 'cf1_endline': endline1})\n",
    "                pair_number = 2\n",
    "                \n",
    "            elif \"<source\" in line and pair_number == 2:\n",
    "                file2 = re.search(\"file=\\\"(.*?)\\\"\", line).group(1)\n",
    "                subdirectory2 = re.search(\"systems/\" + str(file_number) + \"/(.*?)/\", file2).group(1)\n",
    "                startline2 = re.search(\"startline=\\\"(.*?)\\\"\", line).group(1)\n",
    "                endline2 = re.search(\"endline=\\\"(.*?)\\\"\", line).group(1)\n",
    "        \n",
    "                if subdirectory2 == \"default\":\n",
    "                    filename2 = re.search(\"default/(.*)\", file2).group(1)\n",
    "                elif subdirectory2 == \"selected\":\n",
    "                    filename2 = re.search(\"selected/(.*)\", file2).group(1)\n",
    "                elif subdirectory2 == \"sample\":\n",
    "                    filename2 = re.search(\"sample/(.*)\", file2).group(1)\n",
    "            \n",
    "                r2.append({'cf2_subdirectory': subdirectory2, 'cf2_filename': filename2, \n",
    "                              'cf2_startline': startline2, 'cf2_endline': endline2})\n",
    "\n",
    "                pair_number = 1\n",
    "                \n",
    "        file_number = file_number + 1"
   ]
  },
  {
   "cell_type": "code",
   "execution_count": 6,
   "metadata": {},
   "outputs": [],
   "source": [
    "clone_pair('txt/', r1=rows1, r2=rows2)"
   ]
  },
  {
   "cell_type": "code",
   "execution_count": 7,
   "metadata": {},
   "outputs": [],
   "source": [
    "df1 = pd.DataFrame(rows1, columns=cols1)\n",
    "df2 = pd.DataFrame(rows2, columns=cols2)\n",
    "\n",
    "df_clones = pd.concat([df1, df2], axis=1)"
   ]
  },
  {
   "cell_type": "code",
   "execution_count": 8,
   "metadata": {},
   "outputs": [
    {
     "name": "stdout",
     "output_type": "stream",
     "text": [
      "        cf1_subdirectory  cf1_filename cf1_startline cf1_endline  \\\n",
      "0                default    79285.java            63         603   \n",
      "1               selected  1498233.java           170         571   \n",
      "2               selected   889460.java           372         671   \n",
      "3               selected  1909787.java           307         578   \n",
      "4               selected     4635.java           298         597   \n",
      "...                  ...           ...           ...         ...   \n",
      "1850220         selected   474085.java           607         612   \n",
      "1850221         selected   474085.java           705         710   \n",
      "1850222         selected   537383.java          1010        1015   \n",
      "1850223         selected  1353793.java            51          56   \n",
      "1850224         selected  1448701.java           763         768   \n",
      "\n",
      "        cf2_subdirectory  cf2_filename cf2_startline cf2_endline  \n",
      "0                default   106730.java            63         603  \n",
      "1               selected  2697187.java           177         578  \n",
      "2               selected  1568134.java           372         671  \n",
      "3               selected     4635.java           298         597  \n",
      "4               selected  1578827.java           261         530  \n",
      "...                  ...           ...           ...         ...  \n",
      "1850220          default    64410.java           624         629  \n",
      "1850221          default    64410.java           724         729  \n",
      "1850222         selected   537383.java          1110        1115  \n",
      "1850223         selected  1640786.java            50          55  \n",
      "1850224         selected  1448701.java           775         780  \n",
      "\n",
      "[1850225 rows x 8 columns]\n"
     ]
    }
   ],
   "source": [
    "print(df_clones)"
   ]
  },
  {
   "cell_type": "code",
   "execution_count": 9,
   "metadata": {},
   "outputs": [],
   "source": [
    "df_clones.to_csv('BCB_6Line_clonePairs.csv', index=False, header=False)"
   ]
  },
  {
   "cell_type": "code",
   "execution_count": 69,
   "metadata": {},
   "outputs": [],
   "source": [
    "file_name = '20_functions-blind-clones-0.30.txt'\n",
    "csv_name = '20.csv'"
   ]
  },
  {
   "cell_type": "code",
   "execution_count": 70,
   "metadata": {},
   "outputs": [],
   "source": [
    "pair_number = 1\n",
    "\n",
    "f = open(file_name, 'r')\n",
    "\n",
    "for line in f:\n",
    "    if \"<source\" in line and pair_number == 1:\n",
    "        file1 = re.search(r\"file=\\\"(.*?)\\\"\", line).group(1)\n",
    "        subdirectory1 = re.search(r\"systems/20/(.*?)/\", file1).group(1)\n",
    "        startline1 = re.search(r\"startline=\\\"(.*?)\\\"\", line).group(1)\n",
    "        endline1 = re.search(r\"endline=\\\"(.*?)\\\"\", line).group(1)\n",
    "        \n",
    "        filename1 = \"test\"\n",
    "        \n",
    "        if subdirectory1 == \"default\":\n",
    "            filename1 = re.search(\"default/(.*)\", file1).group(1)\n",
    "        elif subdirectory1 == \"selected\":\n",
    "            filename1 = re.search(\"selected/(.*)\", file1).group(1)\n",
    "        elif subdirectory1 == \"sample\":\n",
    "            filename1 = re.search(\"sample/(.*)\", file1).group(1)\n",
    "        \n",
    "        rows1.append({'cf1_subdirectory': subdirectory1, 'cf1_filename': filename1, \n",
    "                      'cf1_startline': startline1, 'cf1_endline': endline1})\n",
    "        pair_number = 2\n",
    "            \n",
    "    elif \"<source\" in line and pair_number == 2:\n",
    "        file2 = re.search(r\"file=\\\"(.*?)\\\"\", line).group(1)\n",
    "        subdirectory2 = re.search(r\"systems/20/(.*?)/\", file2).group(1)\n",
    "        startline2 = re.search(r\"startline=\\\"(.*?)\\\"\", line).group(1)\n",
    "        endline2 = re.search(r\"endline=\\\"(.*?)\\\"\", line).group(1)\n",
    "        \n",
    "        if subdirectory2 == \"default\":\n",
    "            filename2 = re.search(\"default/(.*)\", file2).group(1)\n",
    "        elif subdirectory2 == \"selected\":\n",
    "            filename2 = re.search(\"selected/(.*)\", file2).group(1)\n",
    "        elif subdirectory2 == \"sample\":\n",
    "            filename2 = re.search(\"sample/(.*)\", file2).group(1)\n",
    "            \n",
    "        rows2.append({'cf2_subdirectory': subdirectory2, 'cf2_filename': filename2, \n",
    "                      'cf2_startline': startline2, 'cf2_endline': endline2})\n",
    "\n",
    "        pair_number = 1"
   ]
  },
  {
   "cell_type": "code",
   "execution_count": 71,
   "metadata": {},
   "outputs": [],
   "source": [
    "df1 = pd.DataFrame(rows1, columns=cols1)\n",
    "df2 = pd.DataFrame(rows2, columns=cols2)"
   ]
  },
  {
   "cell_type": "code",
   "execution_count": 72,
   "metadata": {},
   "outputs": [
    {
     "name": "stdout",
     "output_type": "stream",
     "text": [
      "       cf1_subdirectory cf1_filename cf1_startline cf1_endline\n",
      "0               default   95453.java            26          42\n",
      "1               default   97118.java            26          42\n",
      "2               default   10482.java            26          42\n",
      "3               default   50039.java            26          42\n",
      "4               default   10482.java            26          42\n",
      "...                 ...          ...           ...         ...\n",
      "121492          default   39708.java           194         203\n",
      "121493          default   39708.java           194         203\n",
      "121494          default   39091.java           194         203\n",
      "121495          default   39091.java           194         203\n",
      "121496          default   35785.java           194         203\n",
      "\n",
      "[121497 rows x 4 columns]\n"
     ]
    }
   ],
   "source": [
    "print(df1)"
   ]
  },
  {
   "cell_type": "code",
   "execution_count": 73,
   "metadata": {},
   "outputs": [],
   "source": [
    "df3 = pd.concat([df1, df2], axis=1)"
   ]
  },
  {
   "cell_type": "code",
   "execution_count": 74,
   "metadata": {},
   "outputs": [
    {
     "name": "stdout",
     "output_type": "stream",
     "text": [
      "       cf1_subdirectory cf1_filename cf1_startline cf1_endline  \\\n",
      "0               default   95453.java            26          42   \n",
      "1               default   97118.java            26          42   \n",
      "2               default   10482.java            26          42   \n",
      "3               default   50039.java            26          42   \n",
      "4               default   10482.java            26          42   \n",
      "...                 ...          ...           ...         ...   \n",
      "121492          default   39708.java           194         203   \n",
      "121493          default   39708.java           194         203   \n",
      "121494          default   39091.java           194         203   \n",
      "121495          default   39091.java           194         203   \n",
      "121496          default   35785.java           194         203   \n",
      "\n",
      "       cf2_subdirectory cf2_filename cf2_startline cf2_endline  \n",
      "0               default   10482.java            26          42  \n",
      "1               default   10482.java            26          42  \n",
      "2               default   48270.java            26          42  \n",
      "3               default   10482.java            26          42  \n",
      "4               default   65246.java            26          42  \n",
      "...                 ...          ...           ...         ...  \n",
      "121492          default   36610.java           194         203  \n",
      "121493          default   35785.java           194         203  \n",
      "121494          default   36610.java           194         203  \n",
      "121495          default   35785.java           194         203  \n",
      "121496          default   36610.java           194         203  \n",
      "\n",
      "[121497 rows x 8 columns]\n"
     ]
    }
   ],
   "source": [
    "print(df3)"
   ]
  },
  {
   "cell_type": "code",
   "execution_count": 75,
   "metadata": {},
   "outputs": [],
   "source": [
    "df3.to_csv(csv_name, index=False)"
   ]
  },
  {
   "cell_type": "code",
   "execution_count": 76,
   "metadata": {},
   "outputs": [],
   "source": [
    "df11 = pd.read_csv('11.csv')\n",
    "df12 = pd.read_csv('12.csv')\n",
    "df13 = pd.read_csv('13.csv')\n",
    "df14 = pd.read_csv('14.csv')\n",
    "df15 = pd.read_csv('15.csv')\n",
    "df17 = pd.read_csv('17.csv')\n",
    "df18 = pd.read_csv('18.csv')\n",
    "df19 = pd.read_csv('19.csv')\n",
    "df20 = pd.read_csv('20.csv')"
   ]
  },
  {
   "cell_type": "code",
   "execution_count": 77,
   "metadata": {},
   "outputs": [],
   "source": [
    "df_merge = pd.concat([df11, df12, df13, df14, df15, df17, df18, df19, df20])"
   ]
  },
  {
   "cell_type": "code",
   "execution_count": 78,
   "metadata": {},
   "outputs": [
    {
     "name": "stdout",
     "output_type": "stream",
     "text": [
      "       cf1_subdirectory  cf1_filename  cf1_startline  cf1_endline  \\\n",
      "0              selected  2684345.java            404          640   \n",
      "1              selected  2684345.java            404          640   \n",
      "2              selected  2333844.java            140          328   \n",
      "3              selected   668934.java            104          193   \n",
      "4              selected   602656.java             75          135   \n",
      "...                 ...           ...            ...          ...   \n",
      "121492          default    39708.java            194          203   \n",
      "121493          default    39708.java            194          203   \n",
      "121494          default    39091.java            194          203   \n",
      "121495          default    39091.java            194          203   \n",
      "121496          default    35785.java            194          203   \n",
      "\n",
      "       cf2_subdirectory  cf2_filename  cf2_startline  cf2_endline  \n",
      "0              selected  1371580.java            135          359  \n",
      "1              selected  2333844.java            140          328  \n",
      "2              selected  1371580.java            135          359  \n",
      "3              selected  1002378.java            106          201  \n",
      "4              selected  2665405.java             75          136  \n",
      "...                 ...           ...            ...          ...  \n",
      "121492          default    36610.java            194          203  \n",
      "121493          default    35785.java            194          203  \n",
      "121494          default    36610.java            194          203  \n",
      "121495          default    35785.java            194          203  \n",
      "121496          default    36610.java            194          203  \n",
      "\n",
      "[181666 rows x 8 columns]\n"
     ]
    }
   ],
   "source": [
    "print(df_merge)"
   ]
  },
  {
   "cell_type": "code",
   "execution_count": 79,
   "metadata": {},
   "outputs": [],
   "source": [
    "df_merge.to_csv('merge.csv', index=False)"
   ]
  },
  {
   "cell_type": "code",
   "execution_count": null,
   "metadata": {},
   "outputs": [],
   "source": []
  }
 ],
 "metadata": {
  "kernelspec": {
   "display_name": "Python 3",
   "language": "python",
   "name": "python3"
  },
  "language_info": {
   "codemirror_mode": {
    "name": "ipython",
    "version": 3
   },
   "file_extension": ".py",
   "mimetype": "text/x-python",
   "name": "python",
   "nbconvert_exporter": "python",
   "pygments_lexer": "ipython3",
   "version": "3.8.8"
  }
 },
 "nbformat": 4,
 "nbformat_minor": 4
}
